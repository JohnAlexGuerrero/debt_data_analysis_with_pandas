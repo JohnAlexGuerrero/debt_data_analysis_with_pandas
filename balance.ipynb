{
 "cells": [
  {
   "cell_type": "code",
   "execution_count": 28,
   "id": "13a4d0b8",
   "metadata": {},
   "outputs": [],
   "source": [
    "import datetime"
   ]
  },
  {
   "cell_type": "code",
   "execution_count": 64,
   "id": "f254281d",
   "metadata": {},
   "outputs": [],
   "source": [
    "import pandas as pd"
   ]
  },
  {
   "cell_type": "code",
   "execution_count": 65,
   "id": "5a36d51d",
   "metadata": {},
   "outputs": [],
   "source": [
    "dataset = pd.read_excel('test.xlsx', sheet_name='invoices')\n",
    "payments = pd.read_excel('test.xlsx', sheet_name='pays')"
   ]
  },
  {
   "cell_type": "code",
   "execution_count": 100,
   "id": "e2810d1c",
   "metadata": {},
   "outputs": [],
   "source": [
    "class Provider:\n",
    "    \n",
    "    def __init__(self, name):\n",
    "        self.name = name\n",
    "        self.invoices = pd.DataFrame()\n",
    "        self.all_invoices()\n",
    "        \n",
    "    def add_invoice(self, new_invoice): \n",
    "        my_dataset = pd.DataFrame({\n",
    "            'company': [self.name],\n",
    "            'num_invoice': [new_invoice.num_invoice],\n",
    "            'date_invoice': [new_invoice.date_invoice],\n",
    "            'date_expiration': [new_invoice.date_expiration],\n",
    "            'value': [new_invoice.value]\n",
    "            },\n",
    "            columns = ['company','num_invoice', 'date_invoice', 'date_expiration','value']\n",
    "        )\n",
    "        \n",
    "        if type(self.invoices == str):\n",
    "            self.invoices = pd.DataFrame(my_dataset)\n",
    "        else:\n",
    "            self.invoices = pd.concat([self.invoices, my_dataset], axis=0)\n",
    "    \n",
    "    def get_invoice(self, num_inv):\n",
    "        result = filter(lambda x: x['num_invoice'] == num_inv, self.invoices)\n",
    "        return list(result)\n",
    "    \n",
    "    def save(self):\n",
    "        name_file = 'test.xlsx'\n",
    "        \n",
    "        dataset = pd.read_excel('test.xlsx')\n",
    "        dataset = pd.concat([self.invoices, dataset], axis=0)\n",
    "        \n",
    "        dataset.to_excel(name_file, index=False)  \n",
    "    \n",
    "    def number_day(self, date_expiration):\n",
    "        day, month, year = date_expiration.split('/')\n",
    "        date_result = datetime.datetime(int(year), int(month), int(day)).strftime('%j')\n",
    "        return int(datetime.datetime.now().strftime('%j')) - int(date_result)\n",
    "    \n",
    "    def overdue_bills(self):\n",
    "        self.invoices['number_day'] = self.invoices['date_expiration'].apply(lambda x: self.number_day(x))\n",
    "        result = self.invoices.loc[self.invoices['number_day'] > 1]\n",
    "        return result\n",
    "    \n",
    "    def payments(self, obj):\n",
    "        df_result = payments.loc[payments['referencia'] == obj]\n",
    "        total = df_result['valor pagado'].sum()\n",
    "        return total\n",
    "    \n",
    "    def all_invoices(self):\n",
    "        self.invoices = dataset.loc[dataset['company'] == self.name]\n",
    "        self.invoices['payments'] = self.invoices['num_invoice'].apply(lambda x: self.payments(x))\n",
    "        self.invoices['balance'] = self.invoices['value'] - self.invoices['payments']"
   ]
  },
  {
   "cell_type": "code",
   "execution_count": 101,
   "id": "79f3296d",
   "metadata": {},
   "outputs": [],
   "source": [
    "class Invoice:\n",
    "    def __init__(self, num_invoice, date_invoice, date_expiration, value):\n",
    "        self.num_invoice = num_invoice\n",
    "        self.date_invoice = date_invoice,\n",
    "        self.date_expiration = date_expiration\n",
    "        self.value = value\n",
    "\n",
    "    \n"
   ]
  },
  {
   "cell_type": "code",
   "execution_count": 102,
   "id": "da3357a2",
   "metadata": {},
   "outputs": [],
   "source": [
    "today = datetime.datetime.now().strftime('%x')"
   ]
  },
  {
   "cell_type": "code",
   "execution_count": 139,
   "id": "f86c84a7",
   "metadata": {},
   "outputs": [
    {
     "name": "stdout",
     "output_type": "stream",
     "text": [
      "ingrese nombre de la empresa: trefilados\n"
     ]
    },
    {
     "name": "stderr",
     "output_type": "stream",
     "text": [
      "C:\\Users\\JOHN\\AppData\\Local\\Temp\\ipykernel_12760\\1773765555.py:53: SettingWithCopyWarning: \n",
      "A value is trying to be set on a copy of a slice from a DataFrame.\n",
      "Try using .loc[row_indexer,col_indexer] = value instead\n",
      "\n",
      "See the caveats in the documentation: https://pandas.pydata.org/pandas-docs/stable/user_guide/indexing.html#returning-a-view-versus-a-copy\n",
      "  self.invoices['payments'] = self.invoices['num_invoice'].apply(lambda x: self.payments(x))\n",
      "C:\\Users\\JOHN\\AppData\\Local\\Temp\\ipykernel_12760\\1773765555.py:54: SettingWithCopyWarning: \n",
      "A value is trying to be set on a copy of a slice from a DataFrame.\n",
      "Try using .loc[row_indexer,col_indexer] = value instead\n",
      "\n",
      "See the caveats in the documentation: https://pandas.pydata.org/pandas-docs/stable/user_guide/indexing.html#returning-a-view-versus-a-copy\n",
      "  self.invoices['balance'] = self.invoices['value'] - self.invoices['payments']\n"
     ]
    }
   ],
   "source": [
    "company = input('ingrese nombre de la empresa: ')\n",
    "\n",
    "prov = Provider(company)"
   ]
  },
  {
   "cell_type": "code",
   "execution_count": 140,
   "id": "46388abc",
   "metadata": {},
   "outputs": [
    {
     "data": {
      "text/html": [
       "<div>\n",
       "<style scoped>\n",
       "    .dataframe tbody tr th:only-of-type {\n",
       "        vertical-align: middle;\n",
       "    }\n",
       "\n",
       "    .dataframe tbody tr th {\n",
       "        vertical-align: top;\n",
       "    }\n",
       "\n",
       "    .dataframe thead th {\n",
       "        text-align: right;\n",
       "    }\n",
       "</style>\n",
       "<table border=\"1\" class=\"dataframe\">\n",
       "  <thead>\n",
       "    <tr style=\"text-align: right;\">\n",
       "      <th></th>\n",
       "      <th>company</th>\n",
       "      <th>num_invoice</th>\n",
       "      <th>date_invoice</th>\n",
       "      <th>date_expiration</th>\n",
       "      <th>value</th>\n",
       "      <th>payments</th>\n",
       "      <th>balance</th>\n",
       "    </tr>\n",
       "  </thead>\n",
       "  <tbody>\n",
       "    <tr>\n",
       "      <th>10</th>\n",
       "      <td>trefilados</td>\n",
       "      <td>PTO124150</td>\n",
       "      <td>2023-09-01</td>\n",
       "      <td>2023-09-01</td>\n",
       "      <td>48500.0</td>\n",
       "      <td>48500.0</td>\n",
       "      <td>0.0</td>\n",
       "    </tr>\n",
       "  </tbody>\n",
       "</table>\n",
       "</div>"
      ],
      "text/plain": [
       "       company num_invoice date_invoice date_expiration    value  payments  \\\n",
       "10  trefilados   PTO124150   2023-09-01      2023-09-01  48500.0   48500.0   \n",
       "\n",
       "    balance  \n",
       "10      0.0  "
      ]
     },
     "execution_count": 140,
     "metadata": {},
     "output_type": "execute_result"
    }
   ],
   "source": [
    "'No hay facturas pendientes para {}'.format(prov.name) if len(prov.invoices) == 0 else prov.invoices"
   ]
  },
  {
   "cell_type": "markdown",
   "id": "81ef5b84",
   "metadata": {},
   "source": [
    "## Ingreso de Facturas"
   ]
  },
  {
   "cell_type": "code",
   "execution_count": 8,
   "id": "8ebc9d92",
   "metadata": {},
   "outputs": [],
   "source": [
    "new_invoice = Invoice('44411633','06/05/2023','20/06/2023',990204)\n",
    "prov.add_invoice(new_invoice)\n",
    "prov.save()"
   ]
  },
  {
   "cell_type": "code",
   "execution_count": 9,
   "id": "3fc03c8e",
   "metadata": {},
   "outputs": [
    {
     "data": {
      "text/html": [
       "<div>\n",
       "<style scoped>\n",
       "    .dataframe tbody tr th:only-of-type {\n",
       "        vertical-align: middle;\n",
       "    }\n",
       "\n",
       "    .dataframe tbody tr th {\n",
       "        vertical-align: top;\n",
       "    }\n",
       "\n",
       "    .dataframe thead th {\n",
       "        text-align: right;\n",
       "    }\n",
       "</style>\n",
       "<table border=\"1\" class=\"dataframe\">\n",
       "  <thead>\n",
       "    <tr style=\"text-align: right;\">\n",
       "      <th></th>\n",
       "      <th>company</th>\n",
       "      <th>num_invoice</th>\n",
       "      <th>date_invoice</th>\n",
       "      <th>date_expiration</th>\n",
       "      <th>value</th>\n",
       "    </tr>\n",
       "  </thead>\n",
       "  <tbody>\n",
       "    <tr>\n",
       "      <th>0</th>\n",
       "      <td>plastivarios</td>\n",
       "      <td>44411633</td>\n",
       "      <td>(06/05/2023,)</td>\n",
       "      <td>20/06/2023</td>\n",
       "      <td>990204</td>\n",
       "    </tr>\n",
       "  </tbody>\n",
       "</table>\n",
       "</div>"
      ],
      "text/plain": [
       "        company num_invoice   date_invoice date_expiration   value\n",
       "0  plastivarios    44411633  (06/05/2023,)      20/06/2023  990204"
      ]
     },
     "execution_count": 9,
     "metadata": {},
     "output_type": "execute_result"
    }
   ],
   "source": [
    "prov.invoices"
   ]
  },
  {
   "cell_type": "code",
   "execution_count": null,
   "id": "f2d2d166",
   "metadata": {},
   "outputs": [],
   "source": []
  },
  {
   "cell_type": "markdown",
   "id": "ecccb5d2",
   "metadata": {},
   "source": [
    "# Facturas Vencidas"
   ]
  },
  {
   "cell_type": "code",
   "execution_count": 58,
   "id": "593c44d0",
   "metadata": {},
   "outputs": [
    {
     "ename": "AttributeError",
     "evalue": "'Timestamp' object has no attribute 'split'",
     "output_type": "error",
     "traceback": [
      "\u001b[1;31m---------------------------------------------------------------------------\u001b[0m",
      "\u001b[1;31mAttributeError\u001b[0m                            Traceback (most recent call last)",
      "Input \u001b[1;32mIn [58]\u001b[0m, in \u001b[0;36m<cell line: 1>\u001b[1;34m()\u001b[0m\n\u001b[1;32m----> 1\u001b[0m df_overdue_bills \u001b[38;5;241m=\u001b[39m \u001b[43mprov\u001b[49m\u001b[38;5;241;43m.\u001b[39;49m\u001b[43moverdue_bills\u001b[49m\u001b[43m(\u001b[49m\u001b[43m)\u001b[49m\n",
      "Input \u001b[1;32mIn [52]\u001b[0m, in \u001b[0;36mProvider.overdue_bills\u001b[1;34m(self)\u001b[0m\n\u001b[0;32m     41\u001b[0m \u001b[38;5;28;01mdef\u001b[39;00m \u001b[38;5;21moverdue_bills\u001b[39m(\u001b[38;5;28mself\u001b[39m):\n\u001b[1;32m---> 42\u001b[0m     \u001b[38;5;28mself\u001b[39m\u001b[38;5;241m.\u001b[39minvoices[\u001b[38;5;124m'\u001b[39m\u001b[38;5;124mnumber_day\u001b[39m\u001b[38;5;124m'\u001b[39m] \u001b[38;5;241m=\u001b[39m \u001b[38;5;28;43mself\u001b[39;49m\u001b[38;5;241;43m.\u001b[39;49m\u001b[43minvoices\u001b[49m\u001b[43m[\u001b[49m\u001b[38;5;124;43m'\u001b[39;49m\u001b[38;5;124;43mdate_expiration\u001b[39;49m\u001b[38;5;124;43m'\u001b[39;49m\u001b[43m]\u001b[49m\u001b[38;5;241;43m.\u001b[39;49m\u001b[43mapply\u001b[49m\u001b[43m(\u001b[49m\u001b[38;5;28;43;01mlambda\u001b[39;49;00m\u001b[43m \u001b[49m\u001b[43mx\u001b[49m\u001b[43m:\u001b[49m\u001b[43m \u001b[49m\u001b[38;5;28;43mself\u001b[39;49m\u001b[38;5;241;43m.\u001b[39;49m\u001b[43mnumber_day\u001b[49m\u001b[43m(\u001b[49m\u001b[43mx\u001b[49m\u001b[43m)\u001b[49m\u001b[43m)\u001b[49m\n\u001b[0;32m     43\u001b[0m     result \u001b[38;5;241m=\u001b[39m \u001b[38;5;28mself\u001b[39m\u001b[38;5;241m.\u001b[39minvoices\u001b[38;5;241m.\u001b[39mloc[\u001b[38;5;28mself\u001b[39m\u001b[38;5;241m.\u001b[39minvoices[\u001b[38;5;124m'\u001b[39m\u001b[38;5;124mnumber_day\u001b[39m\u001b[38;5;124m'\u001b[39m] \u001b[38;5;241m>\u001b[39m \u001b[38;5;241m1\u001b[39m]\n\u001b[0;32m     44\u001b[0m     \u001b[38;5;28;01mreturn\u001b[39;00m result\n",
      "File \u001b[1;32m~\\anaconda3\\lib\\site-packages\\pandas\\core\\series.py:4433\u001b[0m, in \u001b[0;36mSeries.apply\u001b[1;34m(self, func, convert_dtype, args, **kwargs)\u001b[0m\n\u001b[0;32m   4323\u001b[0m \u001b[38;5;28;01mdef\u001b[39;00m \u001b[38;5;21mapply\u001b[39m(\n\u001b[0;32m   4324\u001b[0m     \u001b[38;5;28mself\u001b[39m,\n\u001b[0;32m   4325\u001b[0m     func: AggFuncType,\n\u001b[1;32m   (...)\u001b[0m\n\u001b[0;32m   4328\u001b[0m     \u001b[38;5;241m*\u001b[39m\u001b[38;5;241m*\u001b[39mkwargs,\n\u001b[0;32m   4329\u001b[0m ) \u001b[38;5;241m-\u001b[39m\u001b[38;5;241m>\u001b[39m DataFrame \u001b[38;5;241m|\u001b[39m Series:\n\u001b[0;32m   4330\u001b[0m     \u001b[38;5;124;03m\"\"\"\u001b[39;00m\n\u001b[0;32m   4331\u001b[0m \u001b[38;5;124;03m    Invoke function on values of Series.\u001b[39;00m\n\u001b[0;32m   4332\u001b[0m \n\u001b[1;32m   (...)\u001b[0m\n\u001b[0;32m   4431\u001b[0m \u001b[38;5;124;03m    dtype: float64\u001b[39;00m\n\u001b[0;32m   4432\u001b[0m \u001b[38;5;124;03m    \"\"\"\u001b[39;00m\n\u001b[1;32m-> 4433\u001b[0m     \u001b[38;5;28;01mreturn\u001b[39;00m \u001b[43mSeriesApply\u001b[49m\u001b[43m(\u001b[49m\u001b[38;5;28;43mself\u001b[39;49m\u001b[43m,\u001b[49m\u001b[43m \u001b[49m\u001b[43mfunc\u001b[49m\u001b[43m,\u001b[49m\u001b[43m \u001b[49m\u001b[43mconvert_dtype\u001b[49m\u001b[43m,\u001b[49m\u001b[43m \u001b[49m\u001b[43margs\u001b[49m\u001b[43m,\u001b[49m\u001b[43m \u001b[49m\u001b[43mkwargs\u001b[49m\u001b[43m)\u001b[49m\u001b[38;5;241;43m.\u001b[39;49m\u001b[43mapply\u001b[49m\u001b[43m(\u001b[49m\u001b[43m)\u001b[49m\n",
      "File \u001b[1;32m~\\anaconda3\\lib\\site-packages\\pandas\\core\\apply.py:1082\u001b[0m, in \u001b[0;36mSeriesApply.apply\u001b[1;34m(self)\u001b[0m\n\u001b[0;32m   1078\u001b[0m \u001b[38;5;28;01mif\u001b[39;00m \u001b[38;5;28misinstance\u001b[39m(\u001b[38;5;28mself\u001b[39m\u001b[38;5;241m.\u001b[39mf, \u001b[38;5;28mstr\u001b[39m):\n\u001b[0;32m   1079\u001b[0m     \u001b[38;5;66;03m# if we are a string, try to dispatch\u001b[39;00m\n\u001b[0;32m   1080\u001b[0m     \u001b[38;5;28;01mreturn\u001b[39;00m \u001b[38;5;28mself\u001b[39m\u001b[38;5;241m.\u001b[39mapply_str()\n\u001b[1;32m-> 1082\u001b[0m \u001b[38;5;28;01mreturn\u001b[39;00m \u001b[38;5;28;43mself\u001b[39;49m\u001b[38;5;241;43m.\u001b[39;49m\u001b[43mapply_standard\u001b[49m\u001b[43m(\u001b[49m\u001b[43m)\u001b[49m\n",
      "File \u001b[1;32m~\\anaconda3\\lib\\site-packages\\pandas\\core\\apply.py:1137\u001b[0m, in \u001b[0;36mSeriesApply.apply_standard\u001b[1;34m(self)\u001b[0m\n\u001b[0;32m   1131\u001b[0m         values \u001b[38;5;241m=\u001b[39m obj\u001b[38;5;241m.\u001b[39mastype(\u001b[38;5;28mobject\u001b[39m)\u001b[38;5;241m.\u001b[39m_values\n\u001b[0;32m   1132\u001b[0m         \u001b[38;5;66;03m# error: Argument 2 to \"map_infer\" has incompatible type\u001b[39;00m\n\u001b[0;32m   1133\u001b[0m         \u001b[38;5;66;03m# \"Union[Callable[..., Any], str, List[Union[Callable[..., Any], str]],\u001b[39;00m\n\u001b[0;32m   1134\u001b[0m         \u001b[38;5;66;03m# Dict[Hashable, Union[Union[Callable[..., Any], str],\u001b[39;00m\n\u001b[0;32m   1135\u001b[0m         \u001b[38;5;66;03m# List[Union[Callable[..., Any], str]]]]]\"; expected\u001b[39;00m\n\u001b[0;32m   1136\u001b[0m         \u001b[38;5;66;03m# \"Callable[[Any], Any]\"\u001b[39;00m\n\u001b[1;32m-> 1137\u001b[0m         mapped \u001b[38;5;241m=\u001b[39m \u001b[43mlib\u001b[49m\u001b[38;5;241;43m.\u001b[39;49m\u001b[43mmap_infer\u001b[49m\u001b[43m(\u001b[49m\n\u001b[0;32m   1138\u001b[0m \u001b[43m            \u001b[49m\u001b[43mvalues\u001b[49m\u001b[43m,\u001b[49m\n\u001b[0;32m   1139\u001b[0m \u001b[43m            \u001b[49m\u001b[43mf\u001b[49m\u001b[43m,\u001b[49m\u001b[43m  \u001b[49m\u001b[38;5;66;43;03m# type: ignore[arg-type]\u001b[39;49;00m\n\u001b[0;32m   1140\u001b[0m \u001b[43m            \u001b[49m\u001b[43mconvert\u001b[49m\u001b[38;5;241;43m=\u001b[39;49m\u001b[38;5;28;43mself\u001b[39;49m\u001b[38;5;241;43m.\u001b[39;49m\u001b[43mconvert_dtype\u001b[49m\u001b[43m,\u001b[49m\n\u001b[0;32m   1141\u001b[0m \u001b[43m        \u001b[49m\u001b[43m)\u001b[49m\n\u001b[0;32m   1143\u001b[0m \u001b[38;5;28;01mif\u001b[39;00m \u001b[38;5;28mlen\u001b[39m(mapped) \u001b[38;5;129;01mand\u001b[39;00m \u001b[38;5;28misinstance\u001b[39m(mapped[\u001b[38;5;241m0\u001b[39m], ABCSeries):\n\u001b[0;32m   1144\u001b[0m     \u001b[38;5;66;03m# GH#43986 Need to do list(mapped) in order to get treated as nested\u001b[39;00m\n\u001b[0;32m   1145\u001b[0m     \u001b[38;5;66;03m#  See also GH#25959 regarding EA support\u001b[39;00m\n\u001b[0;32m   1146\u001b[0m     \u001b[38;5;28;01mreturn\u001b[39;00m obj\u001b[38;5;241m.\u001b[39m_constructor_expanddim(\u001b[38;5;28mlist\u001b[39m(mapped), index\u001b[38;5;241m=\u001b[39mobj\u001b[38;5;241m.\u001b[39mindex)\n",
      "File \u001b[1;32m~\\anaconda3\\lib\\site-packages\\pandas\\_libs\\lib.pyx:2870\u001b[0m, in \u001b[0;36mpandas._libs.lib.map_infer\u001b[1;34m()\u001b[0m\n",
      "Input \u001b[1;32mIn [52]\u001b[0m, in \u001b[0;36mProvider.overdue_bills.<locals>.<lambda>\u001b[1;34m(x)\u001b[0m\n\u001b[0;32m     41\u001b[0m \u001b[38;5;28;01mdef\u001b[39;00m \u001b[38;5;21moverdue_bills\u001b[39m(\u001b[38;5;28mself\u001b[39m):\n\u001b[1;32m---> 42\u001b[0m     \u001b[38;5;28mself\u001b[39m\u001b[38;5;241m.\u001b[39minvoices[\u001b[38;5;124m'\u001b[39m\u001b[38;5;124mnumber_day\u001b[39m\u001b[38;5;124m'\u001b[39m] \u001b[38;5;241m=\u001b[39m \u001b[38;5;28mself\u001b[39m\u001b[38;5;241m.\u001b[39minvoices[\u001b[38;5;124m'\u001b[39m\u001b[38;5;124mdate_expiration\u001b[39m\u001b[38;5;124m'\u001b[39m]\u001b[38;5;241m.\u001b[39mapply(\u001b[38;5;28;01mlambda\u001b[39;00m x: \u001b[38;5;28;43mself\u001b[39;49m\u001b[38;5;241;43m.\u001b[39;49m\u001b[43mnumber_day\u001b[49m\u001b[43m(\u001b[49m\u001b[43mx\u001b[49m\u001b[43m)\u001b[49m)\n\u001b[0;32m     43\u001b[0m     result \u001b[38;5;241m=\u001b[39m \u001b[38;5;28mself\u001b[39m\u001b[38;5;241m.\u001b[39minvoices\u001b[38;5;241m.\u001b[39mloc[\u001b[38;5;28mself\u001b[39m\u001b[38;5;241m.\u001b[39minvoices[\u001b[38;5;124m'\u001b[39m\u001b[38;5;124mnumber_day\u001b[39m\u001b[38;5;124m'\u001b[39m] \u001b[38;5;241m>\u001b[39m \u001b[38;5;241m1\u001b[39m]\n\u001b[0;32m     44\u001b[0m     \u001b[38;5;28;01mreturn\u001b[39;00m result\n",
      "Input \u001b[1;32mIn [52]\u001b[0m, in \u001b[0;36mProvider.number_day\u001b[1;34m(self, date_expiration)\u001b[0m\n\u001b[0;32m     36\u001b[0m \u001b[38;5;28;01mdef\u001b[39;00m \u001b[38;5;21mnumber_day\u001b[39m(\u001b[38;5;28mself\u001b[39m, date_expiration):\n\u001b[1;32m---> 37\u001b[0m     day, month, year \u001b[38;5;241m=\u001b[39m \u001b[43mdate_expiration\u001b[49m\u001b[38;5;241;43m.\u001b[39;49m\u001b[43msplit\u001b[49m(\u001b[38;5;124m'\u001b[39m\u001b[38;5;124m/\u001b[39m\u001b[38;5;124m'\u001b[39m)\n\u001b[0;32m     38\u001b[0m     date_result \u001b[38;5;241m=\u001b[39m datetime\u001b[38;5;241m.\u001b[39mdatetime(\u001b[38;5;28mint\u001b[39m(year), \u001b[38;5;28mint\u001b[39m(month), \u001b[38;5;28mint\u001b[39m(day))\u001b[38;5;241m.\u001b[39mstrftime(\u001b[38;5;124m'\u001b[39m\u001b[38;5;124m%\u001b[39m\u001b[38;5;124mj\u001b[39m\u001b[38;5;124m'\u001b[39m)\n\u001b[0;32m     39\u001b[0m     \u001b[38;5;28;01mreturn\u001b[39;00m \u001b[38;5;28mint\u001b[39m(datetime\u001b[38;5;241m.\u001b[39mdatetime\u001b[38;5;241m.\u001b[39mnow()\u001b[38;5;241m.\u001b[39mstrftime(\u001b[38;5;124m'\u001b[39m\u001b[38;5;124m%\u001b[39m\u001b[38;5;124mj\u001b[39m\u001b[38;5;124m'\u001b[39m)) \u001b[38;5;241m-\u001b[39m \u001b[38;5;28mint\u001b[39m(date_result)\n",
      "\u001b[1;31mAttributeError\u001b[0m: 'Timestamp' object has no attribute 'split'"
     ]
    }
   ],
   "source": [
    "df_overdue_bills = prov.overdue_bills()"
   ]
  },
  {
   "cell_type": "code",
   "execution_count": null,
   "id": "b51379d8",
   "metadata": {},
   "outputs": [],
   "source": [
    "total = df_overdue_bills['value'].sum()\n",
    "print(f'Valor Total de Cartera vencidad ${total}')\n",
    "\n",
    "df_overdue_bills"
   ]
  },
  {
   "cell_type": "code",
   "execution_count": 12,
   "id": "1d2915aa",
   "metadata": {},
   "outputs": [
    {
     "data": {
      "text/plain": [
       "990204"
      ]
     },
     "execution_count": 12,
     "metadata": {},
     "output_type": "execute_result"
    }
   ],
   "source": [
    "df_overdue_bills['value'].sum()"
   ]
  },
  {
   "cell_type": "code",
   "execution_count": 13,
   "id": "eb6dc201",
   "metadata": {},
   "outputs": [],
   "source": [
    "df = pd.read_excel('test.xlsx')"
   ]
  },
  {
   "cell_type": "code",
   "execution_count": 70,
   "id": "a4102c62",
   "metadata": {},
   "outputs": [
    {
     "ename": "TypeError",
     "evalue": "payments() missing 1 required positional argument: 'obj'",
     "output_type": "error",
     "traceback": [
      "\u001b[1;31m---------------------------------------------------------------------------\u001b[0m",
      "\u001b[1;31mTypeError\u001b[0m                                 Traceback (most recent call last)",
      "Input \u001b[1;32mIn [70]\u001b[0m, in \u001b[0;36m<cell line: 1>\u001b[1;34m()\u001b[0m\n\u001b[1;32m----> 1\u001b[0m \u001b[43mprov\u001b[49m\u001b[38;5;241;43m.\u001b[39;49m\u001b[43mpayments\u001b[49m\u001b[43m(\u001b[49m\u001b[43m)\u001b[49m\n",
      "\u001b[1;31mTypeError\u001b[0m: payments() missing 1 required positional argument: 'obj'"
     ]
    }
   ],
   "source": [
    "prov.payments()"
   ]
  },
  {
   "cell_type": "code",
   "execution_count": 15,
   "id": "e5c197ba",
   "metadata": {},
   "outputs": [
    {
     "name": "stdout",
     "output_type": "stream",
     "text": [
      "Dataframe exportado a mi_dataframe.xlsx\n"
     ]
    }
   ],
   "source": [
    "# Definir el nombre del archivo de salida\n",
    "nombre_archivo = 'mi_dataframe.xlsx'\n",
    "\n",
    "# Exportar el dataframe a un archivo xlsx\n",
    "df.to_excel(nombre_archivo, index=False)\n",
    "\n",
    "print(f\"Dataframe exportado a {nombre_archivo}\")"
   ]
  },
  {
   "cell_type": "code",
   "execution_count": 16,
   "id": "b6ed02f7",
   "metadata": {},
   "outputs": [],
   "source": [
    "df = pd.read_excel('mi_dataframe.xlsx')"
   ]
  },
  {
   "cell_type": "code",
   "execution_count": 93,
   "id": "caf0d4d4",
   "metadata": {},
   "outputs": [
    {
     "data": {
      "text/plain": [
       "12337447.0"
      ]
     },
     "execution_count": 93,
     "metadata": {},
     "output_type": "execute_result"
    }
   ],
   "source": [
    "payments['valor pagado'].sum()"
   ]
  },
  {
   "cell_type": "code",
   "execution_count": 17,
   "id": "1c4cda80",
   "metadata": {},
   "outputs": [
    {
     "data": {
      "text/plain": [
       "'245'"
      ]
     },
     "execution_count": 17,
     "metadata": {},
     "output_type": "execute_result"
    }
   ],
   "source": [
    "datetime.datetime.now().strftime('%j')"
   ]
  },
  {
   "cell_type": "code",
   "execution_count": 18,
   "id": "90b49387",
   "metadata": {},
   "outputs": [],
   "source": [
    "day, month, year = '20/06/23'.split('/')"
   ]
  },
  {
   "cell_type": "code",
   "execution_count": 19,
   "id": "721a9d54",
   "metadata": {},
   "outputs": [
    {
     "data": {
      "text/plain": [
       "-72"
      ]
     },
     "execution_count": 19,
     "metadata": {},
     "output_type": "execute_result"
    }
   ],
   "source": [
    "171 - 243"
   ]
  },
  {
   "cell_type": "code",
   "execution_count": 92,
   "id": "4876bf19",
   "metadata": {},
   "outputs": [
    {
     "data": {
      "text/html": [
       "<div>\n",
       "<style scoped>\n",
       "    .dataframe tbody tr th:only-of-type {\n",
       "        vertical-align: middle;\n",
       "    }\n",
       "\n",
       "    .dataframe tbody tr th {\n",
       "        vertical-align: top;\n",
       "    }\n",
       "\n",
       "    .dataframe thead th {\n",
       "        text-align: right;\n",
       "    }\n",
       "</style>\n",
       "<table border=\"1\" class=\"dataframe\">\n",
       "  <thead>\n",
       "    <tr style=\"text-align: right;\">\n",
       "      <th></th>\n",
       "      <th>fecha</th>\n",
       "      <th>referencia</th>\n",
       "      <th>transaccion</th>\n",
       "      <th>aprobacion</th>\n",
       "      <th>medio pago</th>\n",
       "      <th>valor pagado</th>\n",
       "    </tr>\n",
       "  </thead>\n",
       "  <tbody>\n",
       "    <tr>\n",
       "      <th>0</th>\n",
       "      <td>2023-08-31</td>\n",
       "      <td>44400922.0</td>\n",
       "      <td>95970412.0</td>\n",
       "      <td>NaN</td>\n",
       "      <td>bancolombia</td>\n",
       "      <td>211915.0</td>\n",
       "    </tr>\n",
       "    <tr>\n",
       "      <th>1</th>\n",
       "      <td>2023-08-31</td>\n",
       "      <td>44405853.0</td>\n",
       "      <td>95970412.0</td>\n",
       "      <td>NaN</td>\n",
       "      <td>bancolombia</td>\n",
       "      <td>285132.0</td>\n",
       "    </tr>\n",
       "    <tr>\n",
       "      <th>2</th>\n",
       "      <td>2023-08-31</td>\n",
       "      <td>RM3364</td>\n",
       "      <td>95970411.0</td>\n",
       "      <td>NaN</td>\n",
       "      <td>efectivo</td>\n",
       "      <td>600000.0</td>\n",
       "    </tr>\n",
       "    <tr>\n",
       "      <th>3</th>\n",
       "      <td>2023-08-31</td>\n",
       "      <td>VT307514</td>\n",
       "      <td>95970410.0</td>\n",
       "      <td>NaN</td>\n",
       "      <td>caja</td>\n",
       "      <td>35150.0</td>\n",
       "    </tr>\n",
       "    <tr>\n",
       "      <th>4</th>\n",
       "      <td>2023-08-31</td>\n",
       "      <td>RM0011</td>\n",
       "      <td>95970409.0</td>\n",
       "      <td>NaN</td>\n",
       "      <td>caja</td>\n",
       "      <td>121450.0</td>\n",
       "    </tr>\n",
       "    <tr>\n",
       "      <th>5</th>\n",
       "      <td>2023-08-31</td>\n",
       "      <td>RM100</td>\n",
       "      <td>95970408.0</td>\n",
       "      <td>NaN</td>\n",
       "      <td>caja</td>\n",
       "      <td>85800.0</td>\n",
       "    </tr>\n",
       "    <tr>\n",
       "      <th>6</th>\n",
       "      <td>2023-08-31</td>\n",
       "      <td>FEDP30585</td>\n",
       "      <td>95970407.0</td>\n",
       "      <td>NaN</td>\n",
       "      <td>caja</td>\n",
       "      <td>182500.0</td>\n",
       "    </tr>\n",
       "    <tr>\n",
       "      <th>7</th>\n",
       "      <td>2023-08-31</td>\n",
       "      <td>RM1598</td>\n",
       "      <td>95970406.0</td>\n",
       "      <td>NaN</td>\n",
       "      <td>caja</td>\n",
       "      <td>325000.0</td>\n",
       "    </tr>\n",
       "    <tr>\n",
       "      <th>8</th>\n",
       "      <td>2023-08-26</td>\n",
       "      <td>RM1598</td>\n",
       "      <td>95970405.0</td>\n",
       "      <td>NaN</td>\n",
       "      <td>caja</td>\n",
       "      <td>3465000.0</td>\n",
       "    </tr>\n",
       "    <tr>\n",
       "      <th>9</th>\n",
       "      <td>2023-08-31</td>\n",
       "      <td>NaN</td>\n",
       "      <td>95970404.0</td>\n",
       "      <td>355037.0</td>\n",
       "      <td>nu bank</td>\n",
       "      <td>499000.0</td>\n",
       "    </tr>\n",
       "    <tr>\n",
       "      <th>10</th>\n",
       "      <td>2023-09-01</td>\n",
       "      <td>RM3382</td>\n",
       "      <td>95970403.0</td>\n",
       "      <td>NaN</td>\n",
       "      <td>caja</td>\n",
       "      <td>90000.0</td>\n",
       "    </tr>\n",
       "    <tr>\n",
       "      <th>11</th>\n",
       "      <td>2023-09-01</td>\n",
       "      <td>RM3364</td>\n",
       "      <td>95970402.0</td>\n",
       "      <td>NaN</td>\n",
       "      <td>caja</td>\n",
       "      <td>534000.0</td>\n",
       "    </tr>\n",
       "    <tr>\n",
       "      <th>12</th>\n",
       "      <td>2023-09-01</td>\n",
       "      <td>RM3838</td>\n",
       "      <td>95970401.0</td>\n",
       "      <td>NaN</td>\n",
       "      <td>caja</td>\n",
       "      <td>1350000.0</td>\n",
       "    </tr>\n",
       "    <tr>\n",
       "      <th>13</th>\n",
       "      <td>2023-06-15</td>\n",
       "      <td>PPFE7374</td>\n",
       "      <td>95970400.0</td>\n",
       "      <td>22853.0</td>\n",
       "      <td>caja</td>\n",
       "      <td>302000.0</td>\n",
       "    </tr>\n",
       "    <tr>\n",
       "      <th>14</th>\n",
       "      <td>2023-09-01</td>\n",
       "      <td>PPFE7374</td>\n",
       "      <td>95970399.0</td>\n",
       "      <td>23141.0</td>\n",
       "      <td>caja</td>\n",
       "      <td>500000.0</td>\n",
       "    </tr>\n",
       "    <tr>\n",
       "      <th>15</th>\n",
       "      <td>2023-09-01</td>\n",
       "      <td>PTO124150</td>\n",
       "      <td>95970398.0</td>\n",
       "      <td>NaN</td>\n",
       "      <td>caja</td>\n",
       "      <td>48500.0</td>\n",
       "    </tr>\n",
       "    <tr>\n",
       "      <th>16</th>\n",
       "      <td>2023-09-01</td>\n",
       "      <td>RM1628</td>\n",
       "      <td>95970397.0</td>\n",
       "      <td>NaN</td>\n",
       "      <td>caja</td>\n",
       "      <td>1052000.0</td>\n",
       "    </tr>\n",
       "    <tr>\n",
       "      <th>17</th>\n",
       "      <td>2023-09-01</td>\n",
       "      <td>FER17808</td>\n",
       "      <td>95970396.0</td>\n",
       "      <td>79644.0</td>\n",
       "      <td>caja</td>\n",
       "      <td>300000.0</td>\n",
       "    </tr>\n",
       "    <tr>\n",
       "      <th>18</th>\n",
       "      <td>2023-08-19</td>\n",
       "      <td>FER17808</td>\n",
       "      <td>NaN</td>\n",
       "      <td>79594.0</td>\n",
       "      <td>caja</td>\n",
       "      <td>150000.0</td>\n",
       "    </tr>\n",
       "    <tr>\n",
       "      <th>19</th>\n",
       "      <td>2023-06-02</td>\n",
       "      <td>FER17808</td>\n",
       "      <td>NaN</td>\n",
       "      <td>77111.0</td>\n",
       "      <td>caja</td>\n",
       "      <td>200000.0</td>\n",
       "    </tr>\n",
       "    <tr>\n",
       "      <th>20</th>\n",
       "      <td>2023-07-07</td>\n",
       "      <td>FER17808</td>\n",
       "      <td>NaN</td>\n",
       "      <td>78270.0</td>\n",
       "      <td>caja</td>\n",
       "      <td>200000.0</td>\n",
       "    </tr>\n",
       "    <tr>\n",
       "      <th>21</th>\n",
       "      <td>2023-06-23</td>\n",
       "      <td>FER17808</td>\n",
       "      <td>NaN</td>\n",
       "      <td>77637.0</td>\n",
       "      <td>caja</td>\n",
       "      <td>300000.0</td>\n",
       "    </tr>\n",
       "    <tr>\n",
       "      <th>22</th>\n",
       "      <td>2023-07-28</td>\n",
       "      <td>FER17808</td>\n",
       "      <td>NaN</td>\n",
       "      <td>78046.0</td>\n",
       "      <td>caja</td>\n",
       "      <td>250000.0</td>\n",
       "    </tr>\n",
       "    <tr>\n",
       "      <th>23</th>\n",
       "      <td>2023-04-21</td>\n",
       "      <td>FER17808</td>\n",
       "      <td>NaN</td>\n",
       "      <td>75908.0</td>\n",
       "      <td>caja</td>\n",
       "      <td>400000.0</td>\n",
       "    </tr>\n",
       "    <tr>\n",
       "      <th>24</th>\n",
       "      <td>2023-05-05</td>\n",
       "      <td>FER17808</td>\n",
       "      <td>NaN</td>\n",
       "      <td>75994.0</td>\n",
       "      <td>caja</td>\n",
       "      <td>400000.0</td>\n",
       "    </tr>\n",
       "    <tr>\n",
       "      <th>25</th>\n",
       "      <td>2023-05-19</td>\n",
       "      <td>FER17808</td>\n",
       "      <td>NaN</td>\n",
       "      <td>76688.0</td>\n",
       "      <td>caja</td>\n",
       "      <td>150000.0</td>\n",
       "    </tr>\n",
       "    <tr>\n",
       "      <th>26</th>\n",
       "      <td>2023-08-25</td>\n",
       "      <td>FER17808</td>\n",
       "      <td>NaN</td>\n",
       "      <td>79625.0</td>\n",
       "      <td>caja</td>\n",
       "      <td>300000.0</td>\n",
       "    </tr>\n",
       "  </tbody>\n",
       "</table>\n",
       "</div>"
      ],
      "text/plain": [
       "        fecha  referencia  transaccion  aprobacion   medio pago  valor pagado\n",
       "0  2023-08-31  44400922.0   95970412.0         NaN  bancolombia      211915.0\n",
       "1  2023-08-31  44405853.0   95970412.0         NaN  bancolombia      285132.0\n",
       "2  2023-08-31      RM3364   95970411.0         NaN     efectivo      600000.0\n",
       "3  2023-08-31    VT307514   95970410.0         NaN         caja       35150.0\n",
       "4  2023-08-31      RM0011   95970409.0         NaN         caja      121450.0\n",
       "5  2023-08-31       RM100   95970408.0         NaN         caja       85800.0\n",
       "6  2023-08-31   FEDP30585   95970407.0         NaN         caja      182500.0\n",
       "7  2023-08-31      RM1598   95970406.0         NaN         caja      325000.0\n",
       "8  2023-08-26      RM1598   95970405.0         NaN         caja     3465000.0\n",
       "9  2023-08-31         NaN   95970404.0    355037.0      nu bank      499000.0\n",
       "10 2023-09-01      RM3382   95970403.0         NaN         caja       90000.0\n",
       "11 2023-09-01      RM3364   95970402.0         NaN         caja      534000.0\n",
       "12 2023-09-01      RM3838   95970401.0         NaN         caja     1350000.0\n",
       "13 2023-06-15    PPFE7374   95970400.0     22853.0         caja      302000.0\n",
       "14 2023-09-01    PPFE7374   95970399.0     23141.0         caja      500000.0\n",
       "15 2023-09-01   PTO124150   95970398.0         NaN         caja       48500.0\n",
       "16 2023-09-01      RM1628   95970397.0         NaN         caja     1052000.0\n",
       "17 2023-09-01    FER17808   95970396.0     79644.0         caja      300000.0\n",
       "18 2023-08-19    FER17808          NaN     79594.0         caja      150000.0\n",
       "19 2023-06-02    FER17808          NaN     77111.0         caja      200000.0\n",
       "20 2023-07-07    FER17808          NaN     78270.0         caja      200000.0\n",
       "21 2023-06-23    FER17808          NaN     77637.0         caja      300000.0\n",
       "22 2023-07-28    FER17808          NaN     78046.0         caja      250000.0\n",
       "23 2023-04-21    FER17808          NaN     75908.0         caja      400000.0\n",
       "24 2023-05-05    FER17808          NaN     75994.0         caja      400000.0\n",
       "25 2023-05-19    FER17808          NaN     76688.0         caja      150000.0\n",
       "26 2023-08-25    FER17808          NaN     79625.0         caja      300000.0"
      ]
     },
     "execution_count": 92,
     "metadata": {},
     "output_type": "execute_result"
    }
   ],
   "source": [
    "payments"
   ]
  },
  {
   "cell_type": "code",
   "execution_count": null,
   "id": "a6f68b6c",
   "metadata": {},
   "outputs": [],
   "source": [
    "import matplotlib.pyplot as plt\n",
    "labels = 'Frogs','dfkdf'\n",
    "sizes = [1000000, 80000]\n",
    "\n",
    "fig, ax = plt.subplots()\n",
    "ax.pie(sizes, labels=labels)"
   ]
  },
  {
   "cell_type": "code",
   "execution_count": null,
   "id": "0e87ae6a",
   "metadata": {},
   "outputs": [],
   "source": []
  }
 ],
 "metadata": {
  "kernelspec": {
   "display_name": "Python 3 (ipykernel)",
   "language": "python",
   "name": "python3"
  },
  "language_info": {
   "codemirror_mode": {
    "name": "ipython",
    "version": 3
   },
   "file_extension": ".py",
   "mimetype": "text/x-python",
   "name": "python",
   "nbconvert_exporter": "python",
   "pygments_lexer": "ipython3",
   "version": "3.9.12"
  }
 },
 "nbformat": 4,
 "nbformat_minor": 5
}
