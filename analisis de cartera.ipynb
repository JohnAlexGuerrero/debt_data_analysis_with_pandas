{
 "cells": [
  {
   "cell_type": "code",
   "execution_count": 1,
   "id": "25136bcb",
   "metadata": {},
   "outputs": [],
   "source": [
    "import pandas as pd"
   ]
  },
  {
   "cell_type": "code",
   "execution_count": 2,
   "id": "6de1757d",
   "metadata": {},
   "outputs": [],
   "source": [
    "df_cartera = pd.read_excel('./cartera_proveedores.xlsx', sheet_name='cartera')"
   ]
  },
  {
   "cell_type": "code",
   "execution_count": 3,
   "id": "5d8c074c",
   "metadata": {},
   "outputs": [],
   "source": [
    "df_pagos = pd.read_excel('./cartera_proveedores.xlsx', sheet_name='pagos')"
   ]
  },
  {
   "cell_type": "code",
   "execution_count": 4,
   "id": "174d97d5",
   "metadata": {},
   "outputs": [],
   "source": [
    "''' seleccionar las facturas que se encuentra pendientes por pagar\n",
    "'''\n",
    "df_cartera_pending = df_cartera.loc[df_cartera['estatus'] != 'cancelado']"
   ]
  },
  {
   "cell_type": "code",
   "execution_count": 5,
   "id": "d3303128",
   "metadata": {},
   "outputs": [],
   "source": [
    "'''\n",
    "agregar una columna \"total pagos\" que corresponde al valor total de los abonos realizados a cada factura\n",
    "'''\n",
    "def pays_by_bill(invoice):\n",
    "    total_pagos = df_pagos.loc[df_pagos['factura'] == invoice]\n",
    "    \n",
    "    if len(total_pagos) < 1:\n",
    "        return 0\n",
    "    \n",
    "    return total_pagos['valor'].sum()"
   ]
  },
  {
   "cell_type": "code",
   "execution_count": 6,
   "id": "48a3bb81",
   "metadata": {},
   "outputs": [
    {
     "name": "stderr",
     "output_type": "stream",
     "text": [
      "C:\\Users\\JOHN\\AppData\\Local\\Temp\\ipykernel_25984\\1532901017.py:1: SettingWithCopyWarning: \n",
      "A value is trying to be set on a copy of a slice from a DataFrame.\n",
      "Try using .loc[row_indexer,col_indexer] = value instead\n",
      "\n",
      "See the caveats in the documentation: https://pandas.pydata.org/pandas-docs/stable/user_guide/indexing.html#returning-a-view-versus-a-copy\n",
      "  df_cartera_pending['total pagos'] = df_cartera_pending['factura'].apply(lambda x: pays_by_bill(x))\n"
     ]
    }
   ],
   "source": [
    "df_cartera_pending['total pagos'] = df_cartera_pending['factura'].apply(lambda x: pays_by_bill(x))"
   ]
  },
  {
   "cell_type": "code",
   "execution_count": 7,
   "id": "83d38740",
   "metadata": {},
   "outputs": [
    {
     "name": "stderr",
     "output_type": "stream",
     "text": [
      "C:\\Users\\JOHN\\AppData\\Local\\Temp\\ipykernel_25984\\3889799722.py:4: SettingWithCopyWarning: \n",
      "A value is trying to be set on a copy of a slice from a DataFrame.\n",
      "Try using .loc[row_indexer,col_indexer] = value instead\n",
      "\n",
      "See the caveats in the documentation: https://pandas.pydata.org/pandas-docs/stable/user_guide/indexing.html#returning-a-view-versus-a-copy\n",
      "  df_cartera_pending['saldo'] = df_cartera_pending['valor'] - df_cartera_pending['total pagos']\n"
     ]
    }
   ],
   "source": [
    "'''agregar una columna \"saldo\", para mostrar el saldo adeudado hasta la fecha\n",
    "'''\n",
    "\n",
    "df_cartera_pending['saldo'] = df_cartera_pending['valor'] - df_cartera_pending['total pagos']"
   ]
  },
  {
   "cell_type": "code",
   "execution_count": 11,
   "id": "10996880",
   "metadata": {},
   "outputs": [
    {
     "name": "stdout",
     "output_type": "stream",
     "text": [
      "company name: corbeta\n",
      "total cartera $ 0.0\n"
     ]
    },
    {
     "data": {
      "text/html": [
       "<div>\n",
       "<style scoped>\n",
       "    .dataframe tbody tr th:only-of-type {\n",
       "        vertical-align: middle;\n",
       "    }\n",
       "\n",
       "    .dataframe tbody tr th {\n",
       "        vertical-align: top;\n",
       "    }\n",
       "\n",
       "    .dataframe thead th {\n",
       "        text-align: right;\n",
       "    }\n",
       "</style>\n",
       "<table border=\"1\" class=\"dataframe\">\n",
       "  <thead>\n",
       "    <tr style=\"text-align: right;\">\n",
       "      <th></th>\n",
       "      <th>empresa</th>\n",
       "      <th>factura</th>\n",
       "      <th>fecha</th>\n",
       "      <th>vencimiento</th>\n",
       "      <th>valor</th>\n",
       "      <th>dias</th>\n",
       "      <th>estatus</th>\n",
       "      <th>total pagos</th>\n",
       "      <th>saldo</th>\n",
       "    </tr>\n",
       "  </thead>\n",
       "  <tbody>\n",
       "  </tbody>\n",
       "</table>\n",
       "</div>"
      ],
      "text/plain": [
       "Empty DataFrame\n",
       "Columns: [empresa, factura, fecha, vencimiento, valor, dias, estatus, total pagos, saldo]\n",
       "Index: []"
      ]
     },
     "execution_count": 11,
     "metadata": {},
     "output_type": "execute_result"
    }
   ],
   "source": [
    "'''filtrar las facturas por nombre de proveedor'''\n",
    "\n",
    "company = input('company name: ')\n",
    "\n",
    "df_filter_by_name = df_cartera_pending.loc[df_cartera_pending['empresa'] == company]\n",
    "\n",
    "total_cartera = df_filter_by_name['saldo'].sum()\n",
    "\n",
    "print(f'total cartera $ {total_cartera}')\n",
    "df_filter_by_name"
   ]
  },
  {
   "cell_type": "code",
   "execution_count": null,
   "id": "a587113b",
   "metadata": {},
   "outputs": [],
   "source": [
    "\n"
   ]
  },
  {
   "cell_type": "code",
   "execution_count": null,
   "id": "7354dbf6",
   "metadata": {},
   "outputs": [],
   "source": []
  },
  {
   "cell_type": "code",
   "execution_count": null,
   "id": "85904c60",
   "metadata": {},
   "outputs": [],
   "source": []
  },
  {
   "cell_type": "code",
   "execution_count": null,
   "id": "fe4437e5",
   "metadata": {},
   "outputs": [],
   "source": []
  }
 ],
 "metadata": {
  "kernelspec": {
   "display_name": "Python 3 (ipykernel)",
   "language": "python",
   "name": "python3"
  },
  "language_info": {
   "codemirror_mode": {
    "name": "ipython",
    "version": 3
   },
   "file_extension": ".py",
   "mimetype": "text/x-python",
   "name": "python",
   "nbconvert_exporter": "python",
   "pygments_lexer": "ipython3",
   "version": "3.9.12"
  }
 },
 "nbformat": 4,
 "nbformat_minor": 5
}
