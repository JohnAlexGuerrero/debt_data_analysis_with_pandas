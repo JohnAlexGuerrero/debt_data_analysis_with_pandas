{
 "cells": [
  {
   "cell_type": "code",
   "execution_count": 1,
   "id": "97300e5e",
   "metadata": {},
   "outputs": [],
   "source": [
    "import pandas as pd\n",
    "import datetime"
   ]
  },
  {
   "cell_type": "code",
   "execution_count": 2,
   "id": "651961c6",
   "metadata": {},
   "outputs": [],
   "source": [
    "df_cartera = pd.read_excel('./cartera_proveedores.xlsx', sheet_name='cartera')\n",
    "df_pagos = pd.read_excel('./cartera_proveedores.xlsx', sheet_name='pagos')"
   ]
  },
  {
   "cell_type": "code",
   "execution_count": 3,
   "id": "324a842e",
   "metadata": {},
   "outputs": [],
   "source": [
    "#agregar una columna \"total pagos\" que corresponde al valor total de los abonos realizados a cada factura\n",
    "\n",
    "def pays_by_bill(invoice):\n",
    "    total_pagos = df_pagos.loc[df_pagos['factura'] == invoice]\n",
    "    if len(total_pagos) < 1:\n",
    "        return 0\n",
    "    return total_pagos['valor'].sum()"
   ]
  },
  {
   "cell_type": "code",
   "execution_count": 4,
   "id": "83656d05",
   "metadata": {},
   "outputs": [],
   "source": [
    "df_result_cartera = df_cartera\n",
    "df_result_cartera['pagos'] = df_cartera['factura'].apply(lambda x: pays_by_bill(x))"
   ]
  },
  {
   "cell_type": "code",
   "execution_count": 5,
   "id": "68d5fff1",
   "metadata": {},
   "outputs": [],
   "source": [
    "df_result_cartera['saldo'] = df_result_cartera['valor'] - df_result_cartera['pagos']"
   ]
  },
  {
   "cell_type": "code",
   "execution_count": 6,
   "id": "2067e505",
   "metadata": {},
   "outputs": [],
   "source": [
    "df_result_cartera['estatus'] = df_result_cartera['saldo'].apply(lambda x: 'cancelado' if x == 0 else 'pendiente')"
   ]
  },
  {
   "cell_type": "code",
   "execution_count": 7,
   "id": "9835bdc6",
   "metadata": {},
   "outputs": [],
   "source": [
    "#filtrar las facturas por nombre de proveedor\n",
    "\n",
    "def filter_by_name_provider():\n",
    "    company = input('company name: ')\n",
    "    df_result = df_result_cartera.loc[df_result_cartera['empresa'] == company]\n",
    "    total_cartera = df_result['saldo'].sum()\n",
    "    print(f'total cartera $ {total_cartera}')\n",
    "    return df_result"
   ]
  },
  {
   "cell_type": "code",
   "execution_count": 8,
   "id": "63f553e6",
   "metadata": {},
   "outputs": [],
   "source": [
    "#filtrar total de pagos por dia\n",
    "def filter_total_pays_by_day(day=datetime.datetime.now().strftime('%x')):\n",
    "    df_result_pagos = df_pagos.loc[df_pagos['fecha'] == day]\n",
    "    df_result_pagos = df_result_pagos.groupby(['fecha']).sum()\n",
    "    return df_result_pagos.sort_values(['fecha'])"
   ]
  },
  {
   "cell_type": "code",
   "execution_count": 9,
   "id": "aee9db49",
   "metadata": {},
   "outputs": [
    {
     "name": "stdout",
     "output_type": "stream",
     "text": [
      "company name: trefilados\n",
      "total cartera $ 3788166.0\n"
     ]
    },
    {
     "data": {
      "text/html": [
       "<div>\n",
       "<style scoped>\n",
       "    .dataframe tbody tr th:only-of-type {\n",
       "        vertical-align: middle;\n",
       "    }\n",
       "\n",
       "    .dataframe tbody tr th {\n",
       "        vertical-align: top;\n",
       "    }\n",
       "\n",
       "    .dataframe thead th {\n",
       "        text-align: right;\n",
       "    }\n",
       "</style>\n",
       "<table border=\"1\" class=\"dataframe\">\n",
       "  <thead>\n",
       "    <tr style=\"text-align: right;\">\n",
       "      <th></th>\n",
       "      <th>empresa</th>\n",
       "      <th>factura</th>\n",
       "      <th>fecha</th>\n",
       "      <th>vencimiento</th>\n",
       "      <th>valor</th>\n",
       "      <th>dias</th>\n",
       "      <th>estatus</th>\n",
       "      <th>pagos</th>\n",
       "      <th>saldo</th>\n",
       "    </tr>\n",
       "  </thead>\n",
       "  <tbody>\n",
       "    <tr>\n",
       "      <th>17</th>\n",
       "      <td>trefilados</td>\n",
       "      <td>PTS10656</td>\n",
       "      <td>2023-06-29</td>\n",
       "      <td>2023-07-29</td>\n",
       "      <td>1233792.0</td>\n",
       "      <td>27</td>\n",
       "      <td>pendiente</td>\n",
       "      <td>0.0</td>\n",
       "      <td>1233792.0</td>\n",
       "    </tr>\n",
       "    <tr>\n",
       "      <th>18</th>\n",
       "      <td>trefilados</td>\n",
       "      <td>PTS10923</td>\n",
       "      <td>2023-07-15</td>\n",
       "      <td>2023-08-14</td>\n",
       "      <td>850307.0</td>\n",
       "      <td>11</td>\n",
       "      <td>pendiente</td>\n",
       "      <td>0.0</td>\n",
       "      <td>850307.0</td>\n",
       "    </tr>\n",
       "    <tr>\n",
       "      <th>39</th>\n",
       "      <td>trefilados</td>\n",
       "      <td>PST10791</td>\n",
       "      <td>2023-07-10</td>\n",
       "      <td>2023-08-09</td>\n",
       "      <td>580434.0</td>\n",
       "      <td>16</td>\n",
       "      <td>pendiente</td>\n",
       "      <td>0.0</td>\n",
       "      <td>580434.0</td>\n",
       "    </tr>\n",
       "    <tr>\n",
       "      <th>40</th>\n",
       "      <td>trefilados</td>\n",
       "      <td>PST10817</td>\n",
       "      <td>2023-07-11</td>\n",
       "      <td>2023-08-10</td>\n",
       "      <td>1123633.0</td>\n",
       "      <td>15</td>\n",
       "      <td>pendiente</td>\n",
       "      <td>0.0</td>\n",
       "      <td>1123633.0</td>\n",
       "    </tr>\n",
       "  </tbody>\n",
       "</table>\n",
       "</div>"
      ],
      "text/plain": [
       "       empresa   factura      fecha vencimiento      valor  dias    estatus  \\\n",
       "17  trefilados  PTS10656 2023-06-29  2023-07-29  1233792.0    27  pendiente   \n",
       "18  trefilados  PTS10923 2023-07-15  2023-08-14   850307.0    11  pendiente   \n",
       "39  trefilados  PST10791 2023-07-10  2023-08-09   580434.0    16  pendiente   \n",
       "40  trefilados  PST10817 2023-07-11  2023-08-10  1123633.0    15  pendiente   \n",
       "\n",
       "    pagos      saldo  \n",
       "17    0.0  1233792.0  \n",
       "18    0.0   850307.0  \n",
       "39    0.0   580434.0  \n",
       "40    0.0  1123633.0  "
      ]
     },
     "execution_count": 9,
     "metadata": {},
     "output_type": "execute_result"
    }
   ],
   "source": [
    "filter_by_name_provider()"
   ]
  },
  {
   "cell_type": "code",
   "execution_count": 10,
   "id": "43ae9c99",
   "metadata": {},
   "outputs": [
    {
     "data": {
      "text/html": [
       "<div>\n",
       "<style scoped>\n",
       "    .dataframe tbody tr th:only-of-type {\n",
       "        vertical-align: middle;\n",
       "    }\n",
       "\n",
       "    .dataframe tbody tr th {\n",
       "        vertical-align: top;\n",
       "    }\n",
       "\n",
       "    .dataframe thead th {\n",
       "        text-align: right;\n",
       "    }\n",
       "</style>\n",
       "<table border=\"1\" class=\"dataframe\">\n",
       "  <thead>\n",
       "    <tr style=\"text-align: right;\">\n",
       "      <th></th>\n",
       "      <th>valor</th>\n",
       "    </tr>\n",
       "    <tr>\n",
       "      <th>fecha</th>\n",
       "      <th></th>\n",
       "    </tr>\n",
       "  </thead>\n",
       "  <tbody>\n",
       "    <tr>\n",
       "      <th>2023-08-25</th>\n",
       "      <td>468000.0</td>\n",
       "    </tr>\n",
       "  </tbody>\n",
       "</table>\n",
       "</div>"
      ],
      "text/plain": [
       "               valor\n",
       "fecha               \n",
       "2023-08-25  468000.0"
      ]
     },
     "execution_count": 10,
     "metadata": {},
     "output_type": "execute_result"
    }
   ],
   "source": [
    "filter_total_pays_by_day('25/08/23')"
   ]
  },
  {
   "cell_type": "code",
   "execution_count": 11,
   "id": "f4ca57ee",
   "metadata": {},
   "outputs": [],
   "source": [
    "#filtrar total de pagos por mes\n",
    "\n",
    "def filter_total_pays_by_month(month=datetime.datetime.now().strftime('%m')):\n",
    "    df_result_pagos = df_pagos.loc[df_pagos['fecha']]\n",
    "    return int(month)"
   ]
  },
  {
   "cell_type": "code",
   "execution_count": 12,
   "id": "0abc162a",
   "metadata": {},
   "outputs": [],
   "source": [
    "\n",
    "df_result = df_pagos.groupby(['fecha']).sum()"
   ]
  },
  {
   "cell_type": "code",
   "execution_count": 13,
   "id": "c5253b00",
   "metadata": {},
   "outputs": [],
   "source": [
    "today = datetime.datetime.now()\n",
    "d = today.strftime('%d')\n",
    "m = today.strftime('%m')\n",
    "y = today.strftime('%Y')\n",
    "\n",
    "df_result = df_pagos.loc[(df_pagos['fecha'] < f'{m}/{d}/{y}') & (df_pagos['fecha'] > f'{m}/01/{y}')]"
   ]
  },
  {
   "cell_type": "code",
   "execution_count": 14,
   "id": "60dcc7e2",
   "metadata": {},
   "outputs": [
    {
     "data": {
      "text/html": [
       "<div>\n",
       "<style scoped>\n",
       "    .dataframe tbody tr th:only-of-type {\n",
       "        vertical-align: middle;\n",
       "    }\n",
       "\n",
       "    .dataframe tbody tr th {\n",
       "        vertical-align: top;\n",
       "    }\n",
       "\n",
       "    .dataframe thead th {\n",
       "        text-align: right;\n",
       "    }\n",
       "</style>\n",
       "<table border=\"1\" class=\"dataframe\">\n",
       "  <thead>\n",
       "    <tr style=\"text-align: right;\">\n",
       "      <th></th>\n",
       "      <th>valor</th>\n",
       "    </tr>\n",
       "    <tr>\n",
       "      <th>fecha</th>\n",
       "      <th></th>\n",
       "    </tr>\n",
       "  </thead>\n",
       "  <tbody>\n",
       "    <tr>\n",
       "      <th>2023-08-14</th>\n",
       "      <td>200000.0</td>\n",
       "    </tr>\n",
       "    <tr>\n",
       "      <th>2023-08-19</th>\n",
       "      <td>450000.0</td>\n",
       "    </tr>\n",
       "    <tr>\n",
       "      <th>2023-08-25</th>\n",
       "      <td>468000.0</td>\n",
       "    </tr>\n",
       "  </tbody>\n",
       "</table>\n",
       "</div>"
      ],
      "text/plain": [
       "               valor\n",
       "fecha               \n",
       "2023-08-14  200000.0\n",
       "2023-08-19  450000.0\n",
       "2023-08-25  468000.0"
      ]
     },
     "execution_count": 14,
     "metadata": {},
     "output_type": "execute_result"
    }
   ],
   "source": [
    "df_result.groupby('fecha').sum()"
   ]
  },
  {
   "cell_type": "code",
   "execution_count": null,
   "id": "995e6856",
   "metadata": {},
   "outputs": [],
   "source": []
  },
  {
   "cell_type": "code",
   "execution_count": null,
   "id": "a315b009",
   "metadata": {},
   "outputs": [],
   "source": []
  }
 ],
 "metadata": {
  "kernelspec": {
   "display_name": "Python 3 (ipykernel)",
   "language": "python",
   "name": "python3"
  },
  "language_info": {
   "codemirror_mode": {
    "name": "ipython",
    "version": 3
   },
   "file_extension": ".py",
   "mimetype": "text/x-python",
   "name": "python",
   "nbconvert_exporter": "python",
   "pygments_lexer": "ipython3",
   "version": "3.9.12"
  }
 },
 "nbformat": 4,
 "nbformat_minor": 5
}
