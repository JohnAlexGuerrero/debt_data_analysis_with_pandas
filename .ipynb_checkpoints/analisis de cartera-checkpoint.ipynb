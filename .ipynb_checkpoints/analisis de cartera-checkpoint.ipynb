{
 "cells": [
  {
   "cell_type": "code",
   "execution_count": 59,
   "id": "97300e5e",
   "metadata": {},
   "outputs": [],
   "source": [
    "import pandas as pd\n",
    "import datetime"
   ]
  },
  {
   "cell_type": "code",
   "execution_count": 13,
   "id": "651961c6",
   "metadata": {},
   "outputs": [],
   "source": [
    "df_cartera = pd.read_excel('./cartera_proveedores.xlsx', sheet_name='cartera')\n",
    "df_pagos = pd.read_excel('./cartera_proveedores.xlsx', sheet_name='pagos')"
   ]
  },
  {
   "cell_type": "code",
   "execution_count": 20,
   "id": "324a842e",
   "metadata": {},
   "outputs": [],
   "source": [
    "#agregar una columna \"total pagos\" que corresponde al valor total de los abonos realizados a cada factura\n",
    "\n",
    "def pays_by_bill(invoice):\n",
    "    total_pagos = df_pagos.loc[df_pagos['factura'] == invoice]\n",
    "    if len(total_pagos) < 1:\n",
    "        return 0\n",
    "    return total_pagos['valor'].sum()"
   ]
  },
  {
   "cell_type": "code",
   "execution_count": 31,
   "id": "83656d05",
   "metadata": {},
   "outputs": [],
   "source": [
    "df_result_cartera = df_cartera\n",
    "df_result_cartera['pagos'] = df_cartera['factura'].apply(lambda x: pays_by_bill(x))"
   ]
  },
  {
   "cell_type": "code",
   "execution_count": 33,
   "id": "68d5fff1",
   "metadata": {},
   "outputs": [],
   "source": [
    "df_result_cartera['saldo'] = df_result_cartera['valor'] - df_result_cartera['pagos']"
   ]
  },
  {
   "cell_type": "code",
   "execution_count": 35,
   "id": "2067e505",
   "metadata": {},
   "outputs": [],
   "source": [
    "df_result_cartera['estatus'] = df_result_cartera['saldo'].apply(lambda x: 'cancelado' if x == 0 else 'pendiente')"
   ]
  },
  {
   "cell_type": "code",
   "execution_count": 64,
   "id": "9835bdc6",
   "metadata": {},
   "outputs": [],
   "source": [
    "#filtrar las facturas por nombre de proveedor\n",
    "\n",
    "def filter_by_name_provider():\n",
    "    company = input('company name: ')\n",
    "    df_result = df_result_cartera.loc[df_result_cartera['empresa'] == company]\n",
    "    total_cartera = df_result['saldo'].sum()\n",
    "    print(f'total cartera $ {total_cartera}')\n",
    "    return df_result"
   ]
  },
  {
   "cell_type": "code",
   "execution_count": 60,
   "id": "63f553e6",
   "metadata": {},
   "outputs": [],
   "source": [
    "#filtrar total de pagos por dia\n",
    "def filter_total_pays_by_day(day=datetime.datetime.now().strftime('%x')):\n",
    "    df_result_pagos = df_pagos.loc[df_pagos['fecha'] == day]\n",
    "    df_result_pagos = df_result_pagos.groupby(['fecha']).sum()\n",
    "    return df_result_pagos.sort_values(['fecha'])"
   ]
  },
  {
   "cell_type": "code",
   "execution_count": 66,
   "id": "aee9db49",
   "metadata": {},
   "outputs": [
    {
     "name": "stdout",
     "output_type": "stream",
     "text": [
      "company name: multialambres\n",
      "total cartera $ 2792128.0\n"
     ]
    },
    {
     "data": {
      "text/html": [
       "<div>\n",
       "<style scoped>\n",
       "    .dataframe tbody tr th:only-of-type {\n",
       "        vertical-align: middle;\n",
       "    }\n",
       "\n",
       "    .dataframe tbody tr th {\n",
       "        vertical-align: top;\n",
       "    }\n",
       "\n",
       "    .dataframe thead th {\n",
       "        text-align: right;\n",
       "    }\n",
       "</style>\n",
       "<table border=\"1\" class=\"dataframe\">\n",
       "  <thead>\n",
       "    <tr style=\"text-align: right;\">\n",
       "      <th></th>\n",
       "      <th>empresa</th>\n",
       "      <th>factura</th>\n",
       "      <th>fecha</th>\n",
       "      <th>vencimiento</th>\n",
       "      <th>valor</th>\n",
       "      <th>dias</th>\n",
       "      <th>estatus</th>\n",
       "      <th>pagos</th>\n",
       "      <th>saldo</th>\n",
       "    </tr>\n",
       "  </thead>\n",
       "  <tbody>\n",
       "    <tr>\n",
       "      <th>0</th>\n",
       "      <td>multialambres</td>\n",
       "      <td>192251.0</td>\n",
       "      <td>2023-07-25</td>\n",
       "      <td>2023-08-24</td>\n",
       "      <td>870211.0</td>\n",
       "      <td>1</td>\n",
       "      <td>pendiente</td>\n",
       "      <td>0.0</td>\n",
       "      <td>870211.0</td>\n",
       "    </tr>\n",
       "    <tr>\n",
       "      <th>38</th>\n",
       "      <td>multialambres</td>\n",
       "      <td>190029.0</td>\n",
       "      <td>2023-07-13</td>\n",
       "      <td>2023-08-12</td>\n",
       "      <td>1921917.0</td>\n",
       "      <td>13</td>\n",
       "      <td>pendiente</td>\n",
       "      <td>0.0</td>\n",
       "      <td>1921917.0</td>\n",
       "    </tr>\n",
       "  </tbody>\n",
       "</table>\n",
       "</div>"
      ],
      "text/plain": [
       "          empresa   factura      fecha vencimiento      valor  dias  \\\n",
       "0   multialambres  192251.0 2023-07-25  2023-08-24   870211.0     1   \n",
       "38  multialambres  190029.0 2023-07-13  2023-08-12  1921917.0    13   \n",
       "\n",
       "      estatus  pagos      saldo  \n",
       "0   pendiente    0.0   870211.0  \n",
       "38  pendiente    0.0  1921917.0  "
      ]
     },
     "execution_count": 66,
     "metadata": {},
     "output_type": "execute_result"
    }
   ],
   "source": [
    "filter_by_name_provider()"
   ]
  },
  {
   "cell_type": "code",
   "execution_count": 63,
   "id": "43ae9c99",
   "metadata": {},
   "outputs": [
    {
     "data": {
      "text/html": [
       "<div>\n",
       "<style scoped>\n",
       "    .dataframe tbody tr th:only-of-type {\n",
       "        vertical-align: middle;\n",
       "    }\n",
       "\n",
       "    .dataframe tbody tr th {\n",
       "        vertical-align: top;\n",
       "    }\n",
       "\n",
       "    .dataframe thead th {\n",
       "        text-align: right;\n",
       "    }\n",
       "</style>\n",
       "<table border=\"1\" class=\"dataframe\">\n",
       "  <thead>\n",
       "    <tr style=\"text-align: right;\">\n",
       "      <th></th>\n",
       "      <th>valor</th>\n",
       "    </tr>\n",
       "    <tr>\n",
       "      <th>fecha</th>\n",
       "      <th></th>\n",
       "    </tr>\n",
       "  </thead>\n",
       "  <tbody>\n",
       "    <tr>\n",
       "      <th>2023-08-25</th>\n",
       "      <td>468000.0</td>\n",
       "    </tr>\n",
       "  </tbody>\n",
       "</table>\n",
       "</div>"
      ],
      "text/plain": [
       "               valor\n",
       "fecha               \n",
       "2023-08-25  468000.0"
      ]
     },
     "execution_count": 63,
     "metadata": {},
     "output_type": "execute_result"
    }
   ],
   "source": [
    "filter_total_pays_by_day('25/08/23')"
   ]
  },
  {
   "cell_type": "code",
   "execution_count": 74,
   "id": "f4ca57ee",
   "metadata": {},
   "outputs": [],
   "source": [
    "#filtrar total de pagos por mes\n",
    "\n",
    "def filter_total_pays_by_month(month=datetime.datetime.now().strftime('%m')):\n",
    "    df_result_pagos = df_pagos.loc[df_pagos['fecha']]\n",
    "    return int(month)"
   ]
  },
  {
   "cell_type": "code",
   "execution_count": 78,
   "id": "0abc162a",
   "metadata": {},
   "outputs": [
    {
     "data": {
      "text/html": [
       "<div>\n",
       "<style scoped>\n",
       "    .dataframe tbody tr th:only-of-type {\n",
       "        vertical-align: middle;\n",
       "    }\n",
       "\n",
       "    .dataframe tbody tr th {\n",
       "        vertical-align: top;\n",
       "    }\n",
       "\n",
       "    .dataframe thead th {\n",
       "        text-align: right;\n",
       "    }\n",
       "</style>\n",
       "<table border=\"1\" class=\"dataframe\">\n",
       "  <thead>\n",
       "    <tr style=\"text-align: right;\">\n",
       "      <th></th>\n",
       "      <th>valor</th>\n",
       "    </tr>\n",
       "    <tr>\n",
       "      <th>fecha</th>\n",
       "      <th></th>\n",
       "    </tr>\n",
       "  </thead>\n",
       "  <tbody>\n",
       "    <tr>\n",
       "      <th>2022-11-21</th>\n",
       "      <td>244000.0</td>\n",
       "    </tr>\n",
       "    <tr>\n",
       "      <th>2023-03-17</th>\n",
       "      <td>1000000.0</td>\n",
       "    </tr>\n",
       "    <tr>\n",
       "      <th>2023-03-24</th>\n",
       "      <td>2000000.0</td>\n",
       "    </tr>\n",
       "    <tr>\n",
       "      <th>2023-04-05</th>\n",
       "      <td>800000.0</td>\n",
       "    </tr>\n",
       "    <tr>\n",
       "      <th>2023-04-10</th>\n",
       "      <td>1000000.0</td>\n",
       "    </tr>\n",
       "    <tr>\n",
       "      <th>2023-04-19</th>\n",
       "      <td>500000.0</td>\n",
       "    </tr>\n",
       "    <tr>\n",
       "      <th>2023-04-21</th>\n",
       "      <td>1400000.0</td>\n",
       "    </tr>\n",
       "    <tr>\n",
       "      <th>2023-04-30</th>\n",
       "      <td>600000.0</td>\n",
       "    </tr>\n",
       "    <tr>\n",
       "      <th>2023-05-05</th>\n",
       "      <td>400000.0</td>\n",
       "    </tr>\n",
       "    <tr>\n",
       "      <th>2023-05-19</th>\n",
       "      <td>150000.0</td>\n",
       "    </tr>\n",
       "    <tr>\n",
       "      <th>2023-06-02</th>\n",
       "      <td>200000.0</td>\n",
       "    </tr>\n",
       "    <tr>\n",
       "      <th>2023-06-09</th>\n",
       "      <td>300000.0</td>\n",
       "    </tr>\n",
       "    <tr>\n",
       "      <th>2023-06-14</th>\n",
       "      <td>2790000.0</td>\n",
       "    </tr>\n",
       "    <tr>\n",
       "      <th>2023-06-16</th>\n",
       "      <td>500000.0</td>\n",
       "    </tr>\n",
       "    <tr>\n",
       "      <th>2023-06-23</th>\n",
       "      <td>300000.0</td>\n",
       "    </tr>\n",
       "    <tr>\n",
       "      <th>2023-07-02</th>\n",
       "      <td>420000.0</td>\n",
       "    </tr>\n",
       "    <tr>\n",
       "      <th>2023-07-06</th>\n",
       "      <td>300000.0</td>\n",
       "    </tr>\n",
       "    <tr>\n",
       "      <th>2023-07-07</th>\n",
       "      <td>512000.0</td>\n",
       "    </tr>\n",
       "    <tr>\n",
       "      <th>2023-07-15</th>\n",
       "      <td>302000.0</td>\n",
       "    </tr>\n",
       "    <tr>\n",
       "      <th>2023-07-20</th>\n",
       "      <td>300000.0</td>\n",
       "    </tr>\n",
       "    <tr>\n",
       "      <th>2023-07-21</th>\n",
       "      <td>411598.0</td>\n",
       "    </tr>\n",
       "    <tr>\n",
       "      <th>2023-07-27</th>\n",
       "      <td>400000.0</td>\n",
       "    </tr>\n",
       "    <tr>\n",
       "      <th>2023-07-28</th>\n",
       "      <td>250000.0</td>\n",
       "    </tr>\n",
       "    <tr>\n",
       "      <th>2023-08-14</th>\n",
       "      <td>200000.0</td>\n",
       "    </tr>\n",
       "    <tr>\n",
       "      <th>2023-08-19</th>\n",
       "      <td>450000.0</td>\n",
       "    </tr>\n",
       "    <tr>\n",
       "      <th>2023-08-25</th>\n",
       "      <td>468000.0</td>\n",
       "    </tr>\n",
       "    <tr>\n",
       "      <th>2023-12-09</th>\n",
       "      <td>2000000.0</td>\n",
       "    </tr>\n",
       "  </tbody>\n",
       "</table>\n",
       "</div>"
      ],
      "text/plain": [
       "                valor\n",
       "fecha                \n",
       "2022-11-21   244000.0\n",
       "2023-03-17  1000000.0\n",
       "2023-03-24  2000000.0\n",
       "2023-04-05   800000.0\n",
       "2023-04-10  1000000.0\n",
       "2023-04-19   500000.0\n",
       "2023-04-21  1400000.0\n",
       "2023-04-30   600000.0\n",
       "2023-05-05   400000.0\n",
       "2023-05-19   150000.0\n",
       "2023-06-02   200000.0\n",
       "2023-06-09   300000.0\n",
       "2023-06-14  2790000.0\n",
       "2023-06-16   500000.0\n",
       "2023-06-23   300000.0\n",
       "2023-07-02   420000.0\n",
       "2023-07-06   300000.0\n",
       "2023-07-07   512000.0\n",
       "2023-07-15   302000.0\n",
       "2023-07-20   300000.0\n",
       "2023-07-21   411598.0\n",
       "2023-07-27   400000.0\n",
       "2023-07-28   250000.0\n",
       "2023-08-14   200000.0\n",
       "2023-08-19   450000.0\n",
       "2023-08-25   468000.0\n",
       "2023-12-09  2000000.0"
      ]
     },
     "execution_count": 78,
     "metadata": {},
     "output_type": "execute_result"
    }
   ],
   "source": [
    "\n",
    "df_result = df_pagos.groupby(['fecha']).sum()"
   ]
  },
  {
   "cell_type": "code",
   "execution_count": 147,
   "id": "c5253b00",
   "metadata": {},
   "outputs": [],
   "source": [
    "today = datetime.datetime.now()\n",
    "d = today.strftime('%d')\n",
    "m = today.strftime('%m')\n",
    "y = today.strftime('%Y')\n",
    "\n",
    "df_result = df_pagos.loc[(df_pagos['fecha'] < f'{m}/{d}/{y}') & (df_pagos['fecha'] > f'{m}/01/{y}')]"
   ]
  },
  {
   "cell_type": "code",
   "execution_count": 148,
   "id": "60dcc7e2",
   "metadata": {},
   "outputs": [
    {
     "data": {
      "text/html": [
       "<div>\n",
       "<style scoped>\n",
       "    .dataframe tbody tr th:only-of-type {\n",
       "        vertical-align: middle;\n",
       "    }\n",
       "\n",
       "    .dataframe tbody tr th {\n",
       "        vertical-align: top;\n",
       "    }\n",
       "\n",
       "    .dataframe thead th {\n",
       "        text-align: right;\n",
       "    }\n",
       "</style>\n",
       "<table border=\"1\" class=\"dataframe\">\n",
       "  <thead>\n",
       "    <tr style=\"text-align: right;\">\n",
       "      <th></th>\n",
       "      <th>valor</th>\n",
       "    </tr>\n",
       "    <tr>\n",
       "      <th>fecha</th>\n",
       "      <th></th>\n",
       "    </tr>\n",
       "  </thead>\n",
       "  <tbody>\n",
       "    <tr>\n",
       "      <th>2023-08-14</th>\n",
       "      <td>200000.0</td>\n",
       "    </tr>\n",
       "    <tr>\n",
       "      <th>2023-08-19</th>\n",
       "      <td>450000.0</td>\n",
       "    </tr>\n",
       "    <tr>\n",
       "      <th>2023-08-25</th>\n",
       "      <td>468000.0</td>\n",
       "    </tr>\n",
       "  </tbody>\n",
       "</table>\n",
       "</div>"
      ],
      "text/plain": [
       "               valor\n",
       "fecha               \n",
       "2023-08-14  200000.0\n",
       "2023-08-19  450000.0\n",
       "2023-08-25  468000.0"
      ]
     },
     "execution_count": 148,
     "metadata": {},
     "output_type": "execute_result"
    }
   ],
   "source": [
    "df_result.groupby('fecha').sum()"
   ]
  },
  {
   "cell_type": "code",
   "execution_count": 146,
   "id": "995e6856",
   "metadata": {},
   "outputs": [
    {
     "data": {
      "text/plain": [
       "'2023'"
      ]
     },
     "execution_count": 146,
     "metadata": {},
     "output_type": "execute_result"
    }
   ],
   "source": []
  },
  {
   "cell_type": "code",
   "execution_count": null,
   "id": "a315b009",
   "metadata": {},
   "outputs": [],
   "source": []
  }
 ],
 "metadata": {
  "kernelspec": {
   "display_name": "Python 3 (ipykernel)",
   "language": "python",
   "name": "python3"
  },
  "language_info": {
   "codemirror_mode": {
    "name": "ipython",
    "version": 3
   },
   "file_extension": ".py",
   "mimetype": "text/x-python",
   "name": "python",
   "nbconvert_exporter": "python",
   "pygments_lexer": "ipython3",
   "version": "3.9.12"
  }
 },
 "nbformat": 4,
 "nbformat_minor": 5
}
